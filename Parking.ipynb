{
 "cells": [
  {
   "cell_type": "code",
   "execution_count": null,
   "metadata": {},
   "outputs": [],
   "source": [
    "# Parking Notebook Carlos Cojab & Ohad Bregman\n",
    "# Final Group Project for Tools for Analytics"
   ]
  },
  {
   "cell_type": "code",
   "execution_count": 10,
   "id": "6d2eb632",
   "metadata": {},
   "outputs": [
    {
     "name": "stdout",
     "output_type": "stream",
     "text": [
      "False\n"
     ]
    }
   ],
   "source": [
    "import pandas as pd\n",
    "\n",
    "data = pd.read_csv ('311_Service_Requests_2020.csv', low_memory=False)\n",
    "\n",
    "df = pd.DataFrame(data)\n",
    "dfzip = df[df[\"Incident Zip\"] == 10011]\n",
    "\n",
    "nycCount = len(df.index)\n",
    "nycParkingCount = len(df[df[\"Complaint Type\"] == \"Illegal Parking\"].index)\n",
    "zipCount = len(dfzip.index)\n",
    "zipParkingCount = len(dfzip[dfzip[\"Complaint Type\"] == \"Illegal Parking\"].index)\n",
    "\n",
    "higher_parking_proportion = (nycParkingCount/nycCount) < (zipParkingCount/zipCount)\n",
    "\n",
    "print(higher_parking_proportion)\n"
   ]
  },
  {
   "cell_type": "code",
   "execution_count": null,
   "id": "c3d48504",
   "metadata": {},
   "outputs": [],
   "source": []
  }
 ],
 "metadata": {
  "kernelspec": {
   "display_name": "Python 3",
   "language": "python",
   "name": "python3"
  },
  "language_info": {
   "codemirror_mode": {
    "name": "ipython",
    "version": 3
   },
   "file_extension": ".py",
   "mimetype": "text/x-python",
   "name": "python",
   "nbconvert_exporter": "python",
   "pygments_lexer": "ipython3",
   "version": "3.8.8"
  }
 },
 "nbformat": 4,
 "nbformat_minor": 5
}
