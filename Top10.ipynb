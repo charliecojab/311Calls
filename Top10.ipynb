{
 "cells": [
  {
   "cell_type": "code",
   "execution_count": 1,
   "id": "0506a4c6",
   "metadata": {},
   "outputs": [],
   "source": [
    "# Top10 Notebook Carlos Cojab & Ohad Bregman\n",
    "# Final Group Project for Tools for Analytics"
   ]
  },
  {
   "cell_type": "code",
   "execution_count": 8,
   "id": "5adaf558",
   "metadata": {},
   "outputs": [
    {
     "name": "stdout",
     "output_type": "stream",
     "text": [
      "Noise - Helicopter                     1506\n",
      "Noise - Residential                    1475\n",
      "Noise - Street/Sidewalk                 786\n",
      "Noise                                   775\n",
      "Homeless Person Assistance              686\n",
      "Non-Emergency Police Matter             652\n",
      "NonCompliance with Phased Reopening     634\n",
      "Illegal Parking                         556\n",
      "HEAT/HOT WATER                          440\n",
      "Street Condition                        398\n",
      "Name: Complaint Type, dtype: int64\n"
     ]
    }
   ],
   "source": [
    "import pandas as pd\n",
    "\n",
    "#zipCode Variable, change this to desired zip code before running\n",
    "zipCode = 10011\n",
    "\n",
    "#read csv file\n",
    "data = pd.read_csv ('311_Service_Requests_2020.csv', low_memory=False)\n",
    "\n",
    "#creates Data Frame for entire city and zipCode incidents\n",
    "df = pd.DataFrame(data)\n",
    "dfzip = df[df[\"Incident Zip\"] == zipCode]\n",
    "\n",
    "#gets Top 10 most common coplaints types in the given zip code\n",
    "top10 = pd.Series(dfzip[\"Complaint Type\"].value_counts()).head(10)\n",
    "print(top10)"
   ]
  },
  {
   "cell_type": "code",
   "execution_count": null,
   "id": "b6c514e5",
   "metadata": {},
   "outputs": [],
   "source": []
  }
 ],
 "metadata": {
  "kernelspec": {
   "display_name": "Python 3",
   "language": "python",
   "name": "python3"
  },
  "language_info": {
   "codemirror_mode": {
    "name": "ipython",
    "version": 3
   },
   "file_extension": ".py",
   "mimetype": "text/x-python",
   "name": "python",
   "nbconvert_exporter": "python",
   "pygments_lexer": "ipython3",
   "version": "3.8.8"
  }
 },
 "nbformat": 4,
 "nbformat_minor": 5
}
