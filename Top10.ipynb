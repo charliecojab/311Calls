{
 "cells": [
  {
   "cell_type": "code",
   "execution_count": 1,
   "id": "0506a4c6",
   "metadata": {},
   "outputs": [],
   "source": [
    "# Top10 Notebook Carlos Cojab & Ohad Bregman\n",
    "# Final Group Project for Tools for Analytics"
   ]
  },
  {
   "cell_type": "code",
   "execution_count": 3,
   "id": "5adaf558",
   "metadata": {},
   "outputs": [
    {
     "name": "stdout",
     "output_type": "stream",
     "text": [
      "Homeless Person Assistance             1357\n",
      "Illegal Parking                         822\n",
      "Noise - Residential                     813\n",
      "Noise                                   601\n",
      "Homeless Street Condition               554\n",
      "Noise - Street/Sidewalk                 515\n",
      "Non-Emergency Police Matter             475\n",
      "HEAT/HOT WATER                          417\n",
      "NonCompliance with Phased Reopening     379\n",
      "Street Condition                        281\n",
      "Name: Complaint Type, dtype: int64\n"
     ]
    }
   ],
   "source": [
    "import pandas as pd\n",
    "\n",
    "data = pd.read_csv ('311_Service_Requests_2020.csv', low_memory=False)\n",
    "\n",
    "df = pd.DataFrame(data)\n",
    "\n",
    "dfzip = df[df[\"Incident Zip\"] == 10011]\n",
    "\n",
    "#df = pd.DataFrame(data, columns= ['Person Name','Country'])\n",
    "\n",
    "top10 = pd.Series(dfzip[\"Complaint Type\"].value_counts()).head(10)\n",
    "print(top10)"
   ]
  },
  {
   "cell_type": "code",
   "execution_count": null,
   "id": "b6c514e5",
   "metadata": {},
   "outputs": [],
   "source": []
  }
 ],
 "metadata": {
  "kernelspec": {
   "display_name": "Python 3",
   "language": "python",
   "name": "python3"
  },
  "language_info": {
   "codemirror_mode": {
    "name": "ipython",
    "version": 3
   },
   "file_extension": ".py",
   "mimetype": "text/x-python",
   "name": "python",
   "nbconvert_exporter": "python",
   "pygments_lexer": "ipython3",
   "version": "3.8.8"
  }
 },
 "nbformat": 4,
 "nbformat_minor": 5
}
