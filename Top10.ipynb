{
 "cells": [
  {
   "cell_type": "code",
   "execution_count": 1,
   "id": "0506a4c6",
   "metadata": {},
   "outputs": [],
   "source": [
    "# Top10 Notebook Carlos Cojab & Ohad Bregman\n",
    "# Final Group Project for Tools for Analytics"
   ]
  },
  {
   "cell_type": "code",
   "execution_count": 13,
   "id": "5adaf558",
   "metadata": {},
   "outputs": [
    {
     "name": "stdout",
     "output_type": "stream",
     "text": [
      "Noise - Helicopter                     1506\n",
      "Noise - Residential                    1475\n",
      "Noise - Street/Sidewalk                 786\n",
      "Noise                                   775\n",
      "Homeless Person Assistance              686\n",
      "Non-Emergency Police Matter             652\n",
      "NonCompliance with Phased Reopening     634\n",
      "Illegal Parking                         556\n",
      "HEAT/HOT WATER                          440\n",
      "Street Condition                        398\n",
      "Name: Complaint Type, dtype: int64\n"
     ]
    }
   ],
   "source": [
    "import pandas as pd\n",
    "\n",
    "data = pd.read_csv ('311_Service_Requests_2020.csv', low_memory=False)\n",
    "\n",
    "df = pd.DataFrame(data)\n",
    "\n",
    "df10011 = df[df[\"Incident Zip\"] == 10011]\n",
    "\n",
    "#df = pd.DataFrame(data, columns= ['Person Name','Country'])\n",
    "\n",
    "top10 = pd.Series(df10011[\"Complaint Type\"].value_counts()).head(10)\n",
    "print(top10)"
   ]
  },
  {
   "cell_type": "code",
   "execution_count": null,
   "id": "b6c514e5",
   "metadata": {},
   "outputs": [],
   "source": []
  }
 ],
 "metadata": {
  "kernelspec": {
   "display_name": "Python 3",
   "language": "python",
   "name": "python3"
  },
  "language_info": {
   "codemirror_mode": {
    "name": "ipython",
    "version": 3
   },
   "file_extension": ".py",
   "mimetype": "text/x-python",
   "name": "python",
   "nbconvert_exporter": "python",
   "pygments_lexer": "ipython3",
   "version": "3.8.8"
  }
 },
 "nbformat": 4,
 "nbformat_minor": 5
}
